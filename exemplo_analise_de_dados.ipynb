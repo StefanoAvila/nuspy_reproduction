# nuspy_reproduction

#Begin
import pandas as pd
from pandas import *
from seaborn import *
from matplotlib.pyplot import *
import numpy as np
from statsmodels.formula.api import *
%matplotlib inline

pd.options.display.max_columns = None
pd.options.display.max_seq_items = None
np.set_printoptions(threshold=np.inf)

#Framework
atlas = read_csv('atlas.csv')

#Some test
atlas.shape

atlas.head(10)

atlas.columns

atlas.t_med25m.values

atlas.t_med25m.describe().round(2)

round(atlas.t_med25m.mean(), 2)

atlas.pib / atlas.popul

atlas['cid_peq'] = atlas.popul < 20000

#Graficos
atlas.t_med25m.plot.hist();
distplot(atlas.t_med25m, hist=False);
scatter('t_med25m', 'renocup', color='black', marker='.', data=atlas);

atlas2 = atlas.iloc[:, [1, 10, 11, 12]]
pairplot(atlas2, hue='nome_uf', markers='.');

#Groupby
atlas.groupby('nome_uf').size()

atlas.groupby('nome_uf').t_med25m.describe()

atlas['renocup'].groupby(atlas['nome_uf']).quantile(0.5)

x = atlas.groupby('nome_uf').t_med25m.mean().reset_index()

x = x.sort_values(by='t_med25m', ascending=False)

x.plot.barh('nome_uf', 't_med25m');

fig, ax = plt.subplots(figsize=(7,7))
set_palette(color_palette(palette='bright'))
set_style("whitegrid")
barplot('t_med25m', 'nome_uf', palette='Accent', data=x)
ax.set_xlabel('% ensino médio')
ax.set_ylabel('');

#Subselecionar
vga = atlas.query('nome_micro == "varginha"')

vga.shape

atlas.query('nome_uf == "minas_gerais"').groupby('nome_meso').size()

mg = atlas.query('nome_uf == "minas_gerais"')

agrupado = mg.groupby(['nome_meso', 'nome_micro'])

agrupado['renocup'].mean().round(2)

atlas2 = atlas[(atlas['nome_uf'] == 'sao_paulo') | (atlas['nome_uf'] == 'minas_gerais')]

atlas2.shape

#Regressão
ols('t_med25m ~ renocup', atlas).fit().summary()

lmplot('t_med25m', 'renocup', atlas);

residplot('t_med25m', 'renocup', atlas);,

# para subselecionar, indique hue e coluna ou linha (row)
lmplot('t_med25m', 'renocup', hue='nome_uf', col='cid_peq', data=atlas2);

# para subselecionar, indique hue e coluna ou linha (row)
lmplot('t_med25m', 'renocup', hue='nome_meso', row='nome_meso', data=mg); 

import seaborn as sns
sns.boxplot('nome_uf', 'renocup', hue='cid_peq', data=atlas2);

#Baixar dados do IBGE
r = requests.get('http://api.sidra.ibge.gov.br/values//t/6381/n1/all/v/4099/p/all/d/v4099%201')

df = pd.DataFrame(r.json())

df.columns = df.iloc[0,:]; df.drop(0, inplace=True)
df.Valor = df.Valor.astype(float)
df.head(2)

df.index = df.iloc[:,5]

plt.subplots(figsize=(17,3))
df.Valor.plot.line()
plt.xticks(np.arange(60), df.index, rotation=90);

df.to_excel('apagar.xls')

#Mapas
import geopandas as gp
from nupis import *

atlas = merge_shp_df(shp='31MUE250GC_SIR.shp', df='atlas.csv')

choropleth(atlas, 't_med25m', cmap='Paired')

setores = gp.read_file('../../dados/ibge_geo/malhas/intramunicipal/31SEE250GC_SIR.shp') 
vga = setores.query('NM_MUNICIP == "VARGINHA"')
vga = vga.query('TIPO == "URBANO"')

ax = vga.plot(figsize=(9,9), cmap='Accent', alpha=.9, linewidth=.1)
ax.set_axis_off();

import requests




