{
 "cells": [
  {
   "cell_type": "markdown",
   "metadata": {},
   "source": [
    "## Vantagens da Python em relação ao Excel:\n",
    "\n",
    "- grandes quantidades de dados (milhares de linhas, dezenas de colunas)\n",
    "- digitar comandos é mais rápido do que clicar em ícones\n",
    "- programação permite fazer operações mais complexas\n",
    "- repetível e compartilhável"
   ]
  },
  {
   "cell_type": "code",
   "execution_count": 3,
   "metadata": {
    "collapsed": true
   },
   "outputs": [
    {
     "ename": "ImportError",
     "evalue": "No module named 'seaborn'",
     "output_type": "error",
     "traceback": [
      "\u001b[0;31m---------------------------------------------------------------------------\u001b[0m",
      "\u001b[0;31mImportError\u001b[0m                               Traceback (most recent call last)",
      "\u001b[0;32m<ipython-input-3-565f60326930>\u001b[0m in \u001b[0;36m<module>\u001b[0;34m()\u001b[0m\n\u001b[1;32m      1\u001b[0m \u001b[1;32mimport\u001b[0m \u001b[0mpandas\u001b[0m \u001b[1;32mas\u001b[0m \u001b[0mpd\u001b[0m\u001b[1;33m\u001b[0m\u001b[0m\n\u001b[1;32m      2\u001b[0m \u001b[1;32mfrom\u001b[0m \u001b[0mpandas\u001b[0m \u001b[1;32mimport\u001b[0m \u001b[1;33m*\u001b[0m\u001b[1;33m\u001b[0m\u001b[0m\n\u001b[0;32m----> 3\u001b[0;31m \u001b[1;32mfrom\u001b[0m \u001b[0mseaborn\u001b[0m \u001b[1;32mimport\u001b[0m \u001b[1;33m*\u001b[0m\u001b[1;33m\u001b[0m\u001b[0m\n\u001b[0m\u001b[1;32m      4\u001b[0m \u001b[1;32mfrom\u001b[0m \u001b[0mmatplotlib\u001b[0m\u001b[1;33m.\u001b[0m\u001b[0mpyplot\u001b[0m \u001b[1;32mimport\u001b[0m \u001b[1;33m*\u001b[0m\u001b[1;33m\u001b[0m\u001b[0m\n\u001b[1;32m      5\u001b[0m \u001b[1;32mimport\u001b[0m \u001b[0mnumpy\u001b[0m \u001b[1;32mas\u001b[0m \u001b[0mnp\u001b[0m\u001b[1;33m\u001b[0m\u001b[0m\n",
      "\u001b[0;31mImportError\u001b[0m: No module named 'seaborn'"
     ]
    }
   ],
   "source": [
    "import pandas as pd\n",
    "from pandas import *\n",
    "from seaborn import *\n",
    "from matplotlib.pyplot import *\n",
    "import numpy as np\n",
    "from statsmodels.formula.api import *\n",
    "%matplotlib inline\n",
    "\n",
    "pd.options.display.max_columns = None\n",
    "pd.options.display.max_seq_items = None\n",
    "np.set_printoptions(threshold=np.inf)"
   ]
  },
  {
   "cell_type": "code",
   "execution_count": 4,
   "metadata": {
    "collapsed": true
   },
   "outputs": [],
   "source": [
    "atlas = read_csv('atlas.csv')"
   ]
  },
  {
   "cell_type": "code",
   "execution_count": 5,
   "metadata": {
    "collapsed": true
   },
   "outputs": [
    {
     "data": {
      "text/plain": [
       "(5565, 80)"
      ]
     },
     "execution_count": 5,
     "metadata": {},
     "output_type": "execute_result"
    }
   ],
   "source": [
    "atlas.shape"
   ]
  },
  {
   "cell_type": "code",
   "execution_count": 6,
   "metadata": {
    "collapsed": true
   },
   "outputs": [
    {
     "data": {
      "text/html": [
       "<div>\n",
       "<table border=\"1\" class=\"dataframe\">\n",
       "  <thead>\n",
       "    <tr style=\"text-align: right;\">\n",
       "      <th></th>\n",
       "      <th>nome_mun</th>\n",
       "      <th>nome_uf</th>\n",
       "      <th>mun</th>\n",
       "      <th>uf</th>\n",
       "      <th>rm</th>\n",
       "      <th>meso</th>\n",
       "      <th>nome_meso</th>\n",
       "      <th>micro</th>\n",
       "      <th>nome_micro</th>\n",
       "      <th>espvida</th>\n",
       "      <th>...</th>\n",
       "      <th>popul</th>\n",
       "      <th>porte</th>\n",
       "      <th>vab_agro</th>\n",
       "      <th>vab_ind</th>\n",
       "      <th>vab_serv</th>\n",
       "      <th>vab_adm</th>\n",
       "      <th>vab_total</th>\n",
       "      <th>impostos</th>\n",
       "      <th>pib</th>\n",
       "      <th>pibpc</th>\n",
       "    </tr>\n",
       "  </thead>\n",
       "  <tbody>\n",
       "    <tr>\n",
       "      <th>0</th>\n",
       "      <td>alta_floresta_doeste</td>\n",
       "      <td>rondonia</td>\n",
       "      <td>1100015</td>\n",
       "      <td>11</td>\n",
       "      <td>nao</td>\n",
       "      <td>1102</td>\n",
       "      <td>leste_rondoniense</td>\n",
       "      <td>11006</td>\n",
       "      <td>cacoal</td>\n",
       "      <td>70.75</td>\n",
       "      <td>...</td>\n",
       "      <td>24097</td>\n",
       "      <td>pequenoII</td>\n",
       "      <td>69260.391</td>\n",
       "      <td>16118.534</td>\n",
       "      <td>62496.185</td>\n",
       "      <td>93244.656</td>\n",
       "      <td>241119.767</td>\n",
       "      <td>20957.111</td>\n",
       "      <td>262076.878</td>\n",
       "      <td>10731.18</td>\n",
       "    </tr>\n",
       "    <tr>\n",
       "      <th>1</th>\n",
       "      <td>ariquemes</td>\n",
       "      <td>rondonia</td>\n",
       "      <td>1100023</td>\n",
       "      <td>11</td>\n",
       "      <td>nao</td>\n",
       "      <td>1102</td>\n",
       "      <td>leste_rondoniense</td>\n",
       "      <td>11003</td>\n",
       "      <td>ariquemes</td>\n",
       "      <td>73.36</td>\n",
       "      <td>...</td>\n",
       "      <td>89766</td>\n",
       "      <td>medioI</td>\n",
       "      <td>73711.643</td>\n",
       "      <td>287138.585</td>\n",
       "      <td>494946.267</td>\n",
       "      <td>343867.731</td>\n",
       "      <td>1199664.227</td>\n",
       "      <td>165029.553</td>\n",
       "      <td>1364693.780</td>\n",
       "      <td>15103.86</td>\n",
       "    </tr>\n",
       "    <tr>\n",
       "      <th>2</th>\n",
       "      <td>cabixi</td>\n",
       "      <td>rondonia</td>\n",
       "      <td>1100031</td>\n",
       "      <td>11</td>\n",
       "      <td>nao</td>\n",
       "      <td>1102</td>\n",
       "      <td>leste_rondoniense</td>\n",
       "      <td>11008</td>\n",
       "      <td>colorado_do_oeste</td>\n",
       "      <td>70.39</td>\n",
       "      <td>...</td>\n",
       "      <td>6303</td>\n",
       "      <td>pequenoI</td>\n",
       "      <td>24300.822</td>\n",
       "      <td>3252.506</td>\n",
       "      <td>12677.210</td>\n",
       "      <td>25170.235</td>\n",
       "      <td>65400.772</td>\n",
       "      <td>4210.342</td>\n",
       "      <td>69611.114</td>\n",
       "      <td>11033.62</td>\n",
       "    </tr>\n",
       "    <tr>\n",
       "      <th>3</th>\n",
       "      <td>cacoal</td>\n",
       "      <td>rondonia</td>\n",
       "      <td>1100049</td>\n",
       "      <td>11</td>\n",
       "      <td>nao</td>\n",
       "      <td>1102</td>\n",
       "      <td>leste_rondoniense</td>\n",
       "      <td>11006</td>\n",
       "      <td>cacoal</td>\n",
       "      <td>74.27</td>\n",
       "      <td>...</td>\n",
       "      <td>78141</td>\n",
       "      <td>medioI</td>\n",
       "      <td>95259.203</td>\n",
       "      <td>182051.537</td>\n",
       "      <td>465447.325</td>\n",
       "      <td>298454.309</td>\n",
       "      <td>1041212.374</td>\n",
       "      <td>145281.717</td>\n",
       "      <td>1186494.091</td>\n",
       "      <td>15095.15</td>\n",
       "    </tr>\n",
       "    <tr>\n",
       "      <th>4</th>\n",
       "      <td>cerejeiras</td>\n",
       "      <td>rondonia</td>\n",
       "      <td>1100056</td>\n",
       "      <td>11</td>\n",
       "      <td>nao</td>\n",
       "      <td>1102</td>\n",
       "      <td>leste_rondoniense</td>\n",
       "      <td>11008</td>\n",
       "      <td>colorado_do_oeste</td>\n",
       "      <td>72.94</td>\n",
       "      <td>...</td>\n",
       "      <td>16942</td>\n",
       "      <td>pequenoI</td>\n",
       "      <td>28976.415</td>\n",
       "      <td>19734.484</td>\n",
       "      <td>80724.991</td>\n",
       "      <td>63018.270</td>\n",
       "      <td>192454.160</td>\n",
       "      <td>29567.029</td>\n",
       "      <td>222021.189</td>\n",
       "      <td>13037.06</td>\n",
       "    </tr>\n",
       "    <tr>\n",
       "      <th>5</th>\n",
       "      <td>colorado_do_oeste</td>\n",
       "      <td>rondonia</td>\n",
       "      <td>1100064</td>\n",
       "      <td>11</td>\n",
       "      <td>nao</td>\n",
       "      <td>1102</td>\n",
       "      <td>leste_rondoniense</td>\n",
       "      <td>11008</td>\n",
       "      <td>colorado_do_oeste</td>\n",
       "      <td>73.81</td>\n",
       "      <td>...</td>\n",
       "      <td>18540</td>\n",
       "      <td>pequenoI</td>\n",
       "      <td>35817.583</td>\n",
       "      <td>18305.912</td>\n",
       "      <td>54678.238</td>\n",
       "      <td>67462.041</td>\n",
       "      <td>176263.775</td>\n",
       "      <td>16828.821</td>\n",
       "      <td>193092.596</td>\n",
       "      <td>10380.21</td>\n",
       "    </tr>\n",
       "    <tr>\n",
       "      <th>6</th>\n",
       "      <td>corumbiara</td>\n",
       "      <td>rondonia</td>\n",
       "      <td>1100072</td>\n",
       "      <td>11</td>\n",
       "      <td>nao</td>\n",
       "      <td>1102</td>\n",
       "      <td>leste_rondoniense</td>\n",
       "      <td>11008</td>\n",
       "      <td>colorado_do_oeste</td>\n",
       "      <td>71.45</td>\n",
       "      <td>...</td>\n",
       "      <td>8647</td>\n",
       "      <td>pequenoI</td>\n",
       "      <td>51205.533</td>\n",
       "      <td>7946.464</td>\n",
       "      <td>15590.944</td>\n",
       "      <td>34012.729</td>\n",
       "      <td>108755.670</td>\n",
       "      <td>6012.602</td>\n",
       "      <td>114768.272</td>\n",
       "      <td>13038.89</td>\n",
       "    </tr>\n",
       "    <tr>\n",
       "      <th>7</th>\n",
       "      <td>costa_marques</td>\n",
       "      <td>rondonia</td>\n",
       "      <td>1100080</td>\n",
       "      <td>11</td>\n",
       "      <td>nao</td>\n",
       "      <td>1101</td>\n",
       "      <td>madeira_guapore</td>\n",
       "      <td>11002</td>\n",
       "      <td>guajara_mirim</td>\n",
       "      <td>70.04</td>\n",
       "      <td>...</td>\n",
       "      <td>13539</td>\n",
       "      <td>pequenoI</td>\n",
       "      <td>19816.241</td>\n",
       "      <td>7732.292</td>\n",
       "      <td>22863.415</td>\n",
       "      <td>51077.726</td>\n",
       "      <td>101489.674</td>\n",
       "      <td>6093.379</td>\n",
       "      <td>107583.052</td>\n",
       "      <td>7852.78</td>\n",
       "    </tr>\n",
       "    <tr>\n",
       "      <th>8</th>\n",
       "      <td>espigao_doeste</td>\n",
       "      <td>rondonia</td>\n",
       "      <td>1100098</td>\n",
       "      <td>11</td>\n",
       "      <td>nao</td>\n",
       "      <td>1102</td>\n",
       "      <td>leste_rondoniense</td>\n",
       "      <td>11006</td>\n",
       "      <td>cacoal</td>\n",
       "      <td>74.15</td>\n",
       "      <td>...</td>\n",
       "      <td>28510</td>\n",
       "      <td>pequenoII</td>\n",
       "      <td>56432.947</td>\n",
       "      <td>34215.342</td>\n",
       "      <td>88492.279</td>\n",
       "      <td>102086.922</td>\n",
       "      <td>281227.489</td>\n",
       "      <td>30560.346</td>\n",
       "      <td>311787.835</td>\n",
       "      <td>10848.19</td>\n",
       "    </tr>\n",
       "    <tr>\n",
       "      <th>9</th>\n",
       "      <td>guajara_mirim</td>\n",
       "      <td>rondonia</td>\n",
       "      <td>1100106</td>\n",
       "      <td>11</td>\n",
       "      <td>nao</td>\n",
       "      <td>1101</td>\n",
       "      <td>madeira_guapore</td>\n",
       "      <td>11002</td>\n",
       "      <td>guajara_mirim</td>\n",
       "      <td>74.39</td>\n",
       "      <td>...</td>\n",
       "      <td>39928</td>\n",
       "      <td>pequenoII</td>\n",
       "      <td>18630.443</td>\n",
       "      <td>22950.667</td>\n",
       "      <td>273295.234</td>\n",
       "      <td>156792.097</td>\n",
       "      <td>471668.441</td>\n",
       "      <td>126498.612</td>\n",
       "      <td>598167.052</td>\n",
       "      <td>14363.13</td>\n",
       "    </tr>\n",
       "  </tbody>\n",
       "</table>\n",
       "<p>10 rows × 80 columns</p>\n",
       "</div>"
      ],
      "text/plain": [
       "               nome_mun   nome_uf      mun  uf   rm  meso          nome_meso  \\\n",
       "0  alta_floresta_doeste  rondonia  1100015  11  nao  1102  leste_rondoniense   \n",
       "1             ariquemes  rondonia  1100023  11  nao  1102  leste_rondoniense   \n",
       "2                cabixi  rondonia  1100031  11  nao  1102  leste_rondoniense   \n",
       "3                cacoal  rondonia  1100049  11  nao  1102  leste_rondoniense   \n",
       "4            cerejeiras  rondonia  1100056  11  nao  1102  leste_rondoniense   \n",
       "5     colorado_do_oeste  rondonia  1100064  11  nao  1102  leste_rondoniense   \n",
       "6            corumbiara  rondonia  1100072  11  nao  1102  leste_rondoniense   \n",
       "7         costa_marques  rondonia  1100080  11  nao  1101    madeira_guapore   \n",
       "8        espigao_doeste  rondonia  1100098  11  nao  1102  leste_rondoniense   \n",
       "9         guajara_mirim  rondonia  1100106  11  nao  1101    madeira_guapore   \n",
       "\n",
       "   micro         nome_micro  espvida    ...     popul      porte   vab_agro  \\\n",
       "0  11006             cacoal    70.75    ...     24097  pequenoII  69260.391   \n",
       "1  11003          ariquemes    73.36    ...     89766     medioI  73711.643   \n",
       "2  11008  colorado_do_oeste    70.39    ...      6303   pequenoI  24300.822   \n",
       "3  11006             cacoal    74.27    ...     78141     medioI  95259.203   \n",
       "4  11008  colorado_do_oeste    72.94    ...     16942   pequenoI  28976.415   \n",
       "5  11008  colorado_do_oeste    73.81    ...     18540   pequenoI  35817.583   \n",
       "6  11008  colorado_do_oeste    71.45    ...      8647   pequenoI  51205.533   \n",
       "7  11002      guajara_mirim    70.04    ...     13539   pequenoI  19816.241   \n",
       "8  11006             cacoal    74.15    ...     28510  pequenoII  56432.947   \n",
       "9  11002      guajara_mirim    74.39    ...     39928  pequenoII  18630.443   \n",
       "\n",
       "      vab_ind    vab_serv     vab_adm    vab_total    impostos          pib  \\\n",
       "0   16118.534   62496.185   93244.656   241119.767   20957.111   262076.878   \n",
       "1  287138.585  494946.267  343867.731  1199664.227  165029.553  1364693.780   \n",
       "2    3252.506   12677.210   25170.235    65400.772    4210.342    69611.114   \n",
       "3  182051.537  465447.325  298454.309  1041212.374  145281.717  1186494.091   \n",
       "4   19734.484   80724.991   63018.270   192454.160   29567.029   222021.189   \n",
       "5   18305.912   54678.238   67462.041   176263.775   16828.821   193092.596   \n",
       "6    7946.464   15590.944   34012.729   108755.670    6012.602   114768.272   \n",
       "7    7732.292   22863.415   51077.726   101489.674    6093.379   107583.052   \n",
       "8   34215.342   88492.279  102086.922   281227.489   30560.346   311787.835   \n",
       "9   22950.667  273295.234  156792.097   471668.441  126498.612   598167.052   \n",
       "\n",
       "      pibpc  \n",
       "0  10731.18  \n",
       "1  15103.86  \n",
       "2  11033.62  \n",
       "3  15095.15  \n",
       "4  13037.06  \n",
       "5  10380.21  \n",
       "6  13038.89  \n",
       "7   7852.78  \n",
       "8  10848.19  \n",
       "9  14363.13  \n",
       "\n",
       "[10 rows x 80 columns]"
      ]
     },
     "execution_count": 6,
     "metadata": {},
     "output_type": "execute_result"
    }
   ],
   "source": [
    "atlas.head(10)"
   ]
  },
  {
   "cell_type": "code",
   "execution_count": 7,
   "metadata": {
    "collapsed": true
   },
   "outputs": [
    {
     "data": {
      "text/plain": [
       "Index(['nome_mun', 'nome_uf', 'mun', 'uf', 'rm', 'meso', 'nome_meso', 'micro',\n",
       "       'nome_micro', 'espvida', 'fectot', 'mort1', 'razdep', 't_env',\n",
       "       'e_anosestudo', 't_analf25m', 't_flbas', 't_flfund', 't_flmed',\n",
       "       't_flpre', 't_flsuper', 'pind', 'pmpob', 'pren10ricos', 'pren20',\n",
       "       'pren20ricos', 'pren40', 'pren60', 'pren80', 'r1040', 'r2040', 'rdpc',\n",
       "       'cpr', 'emp', 'p_agro', 'p_com', 'p_constr', 'p_extr', 'p_formal',\n",
       "       'p_fund', 'p_med', 'p_serv', 'p_siup', 'p_super', 'p_transf', 'ren0',\n",
       "       'ren1', 'ren2', 'ren3', 'ren5', 'renocup', 'trabcc', 'trabpub',\n",
       "       'trabsc', 't_agua', 't_banagua', 't_dens', 't_lixo', 't_luz', 'parede',\n",
       "       't_m10a14cf', 't_m15a17cf', 't_mulchefefif014', 't_nestuda_ntrab_mmeio',\n",
       "       't_des', 't_fund25m', 't_med25m', 't_super25m', 't_ativ', 't_urb',\n",
       "       'popul', 'porte', 'vab_agro', 'vab_ind', 'vab_serv', 'vab_adm',\n",
       "       'vab_total', 'impostos', 'pib', 'pibpc'],\n",
       "      dtype='object')"
      ]
     },
     "execution_count": 7,
     "metadata": {},
     "output_type": "execute_result"
    }
   ],
   "source": [
    "atlas.columns"
   ]
  },
  {
   "cell_type": "code",
   "execution_count": 8,
   "metadata": {
    "collapsed": true
   },
   "outputs": [
    {
     "data": {
      "text/plain": [
       "array([ 19.19,  31.45,  20.42, ...,  22.64,  11.39,  55.4 ])"
      ]
     },
     "execution_count": 8,
     "metadata": {},
     "output_type": "execute_result"
    }
   ],
   "source": [
    "atlas.t_med25m.values"
   ]
  },
  {
   "cell_type": "code",
   "execution_count": 9,
   "metadata": {
    "collapsed": true
   },
   "outputs": [
    {
     "data": {
      "text/plain": [
       "count    5565.00\n",
       "mean       21.64\n",
       "std         8.51\n",
       "min         3.46\n",
       "25%        15.32\n",
       "50%        20.13\n",
       "75%        26.45\n",
       "max        65.86\n",
       "Name: t_med25m, dtype: float64"
      ]
     },
     "execution_count": 9,
     "metadata": {},
     "output_type": "execute_result"
    }
   ],
   "source": [
    "atlas.t_med25m.describe().round(2)"
   ]
  },
  {
   "cell_type": "code",
   "execution_count": 10,
   "metadata": {
    "collapsed": true
   },
   "outputs": [
    {
     "data": {
      "text/plain": [
       "21.64"
      ]
     },
     "execution_count": 10,
     "metadata": {},
     "output_type": "execute_result"
    }
   ],
   "source": [
    "round(atlas.t_med25m.mean(), 2)"
   ]
  },
  {
   "cell_type": "code",
   "execution_count": 11,
   "metadata": {
    "collapsed": true
   },
   "outputs": [
    {
     "data": {
      "text/plain": [
       "0       10.875913\n",
       "1       15.202791\n",
       "2       11.044124\n",
       "3       15.184015\n",
       "4       13.104780\n",
       "5       10.414919\n",
       "6       13.272612\n",
       "7        7.946159\n",
       "8       10.936087\n",
       "9       14.981142\n",
       "10      15.417121\n",
       "11      16.008824\n",
       "12       8.775013\n",
       "13       8.893337\n",
       "14      12.678934\n",
       "15      16.091802\n",
       "16      21.521042\n",
       "17      10.582556\n",
       "18      12.761419\n",
       "19      12.462499\n",
       "20      11.147019\n",
       "21      19.139145\n",
       "22      14.952807\n",
       "23       9.811402\n",
       "24       9.625543\n",
       "25       9.402352\n",
       "26       8.896398\n",
       "27      10.422293\n",
       "28       9.356745\n",
       "29      13.399861\n",
       "          ...    \n",
       "5535    16.168814\n",
       "5536    10.166648\n",
       "5537    12.277628\n",
       "5538    18.628053\n",
       "5539     9.259189\n",
       "5540    78.072864\n",
       "5541    11.978510\n",
       "5542    28.064592\n",
       "5543    15.731348\n",
       "5544     6.887919\n",
       "5545     7.308905\n",
       "5546     9.705607\n",
       "5547     5.272505\n",
       "5548    13.133167\n",
       "5549     9.985789\n",
       "5550     9.929199\n",
       "5551     7.468877\n",
       "5552    12.404889\n",
       "5553    60.330391\n",
       "5554    10.216863\n",
       "5555    12.259374\n",
       "5556     7.751200\n",
       "5557    16.662766\n",
       "5558     8.420929\n",
       "5559     9.683200\n",
       "5560    14.294810\n",
       "5561    18.372581\n",
       "5562    15.298990\n",
       "5563    19.426643\n",
       "5564    56.676621\n",
       "dtype: float64"
      ]
     },
     "execution_count": 11,
     "metadata": {},
     "output_type": "execute_result"
    }
   ],
   "source": [
    "atlas.pib / atlas.popul"
   ]
  },
  {
   "cell_type": "code",
   "execution_count": 12,
   "metadata": {
    "collapsed": false
   },
   "outputs": [],
   "source": [
    "atlas['cid_peq'] = atlas.popul < 20000"
   ]
  },
  {
   "cell_type": "markdown",
   "metadata": {},
   "source": [
    "# Gráficos"
   ]
  },
  {
   "cell_type": "code",
   "execution_count": 13,
   "metadata": {
    "collapsed": false
   },
   "outputs": [],
   "source": [
    "atlas.t_med25m.plot.hist();"
   ]
  },
  {
   "cell_type": "code",
   "execution_count": 18,
   "metadata": {
    "collapsed": true
   },
   "outputs": [
    {
     "ename": "NameError",
     "evalue": "name 'distplot' is not defined",
     "output_type": "error",
     "traceback": [
      "\u001b[0;31m---------------------------------------------------------------------------\u001b[0m",
      "\u001b[0;31mNameError\u001b[0m                                 Traceback (most recent call last)",
      "\u001b[0;32m<ipython-input-18-a31ec0de9a8a>\u001b[0m in \u001b[0;36m<module>\u001b[0;34m()\u001b[0m\n\u001b[0;32m----> 1\u001b[0;31m \u001b[0mdistplot\u001b[0m\u001b[1;33m(\u001b[0m\u001b[0matlas\u001b[0m\u001b[1;33m.\u001b[0m\u001b[0mt_med25m\u001b[0m\u001b[1;33m,\u001b[0m \u001b[0mhist\u001b[0m\u001b[1;33m=\u001b[0m\u001b[1;32mFalse\u001b[0m\u001b[1;33m)\u001b[0m\u001b[1;33m;\u001b[0m\u001b[1;33m\u001b[0m\u001b[0m\n\u001b[0m",
      "\u001b[0;31mNameError\u001b[0m: name 'distplot' is not defined"
     ]
    }
   ],
   "source": [
    "distplot(atlas.t_med25m, hist=False);"
   ]
  },
  {
   "cell_type": "code",
   "execution_count": 19,
   "metadata": {
    "collapsed": true
   },
   "outputs": [
    {
     "ename": "NameError",
     "evalue": "name 'scatter' is not defined",
     "output_type": "error",
     "traceback": [
      "\u001b[0;31m---------------------------------------------------------------------------\u001b[0m",
      "\u001b[0;31mNameError\u001b[0m                                 Traceback (most recent call last)",
      "\u001b[0;32m<ipython-input-19-afbffda1de8d>\u001b[0m in \u001b[0;36m<module>\u001b[0;34m()\u001b[0m\n\u001b[0;32m----> 1\u001b[0;31m \u001b[0mscatter\u001b[0m\u001b[1;33m(\u001b[0m\u001b[1;34m't_med25m'\u001b[0m\u001b[1;33m,\u001b[0m \u001b[1;34m'renocup'\u001b[0m\u001b[1;33m,\u001b[0m \u001b[0mcolor\u001b[0m\u001b[1;33m=\u001b[0m\u001b[1;34m'black'\u001b[0m\u001b[1;33m,\u001b[0m \u001b[0mmarker\u001b[0m\u001b[1;33m=\u001b[0m\u001b[1;34m'.'\u001b[0m\u001b[1;33m,\u001b[0m \u001b[0mdata\u001b[0m\u001b[1;33m=\u001b[0m\u001b[0matlas\u001b[0m\u001b[1;33m)\u001b[0m\u001b[1;33m;\u001b[0m\u001b[1;33m\u001b[0m\u001b[0m\n\u001b[0m",
      "\u001b[0;31mNameError\u001b[0m: name 'scatter' is not defined"
     ]
    }
   ],
   "source": [
    "scatter('t_med25m', 'renocup', color='black', marker='.', data=atlas);"
   ]
  },
  {
   "cell_type": "code",
   "execution_count": 16,
   "metadata": {
    "collapsed": true
   },
   "outputs": [
    {
     "ename": "NameError",
     "evalue": "name 'pairplot' is not defined",
     "output_type": "error",
     "traceback": [
      "\u001b[0;31m---------------------------------------------------------------------------\u001b[0m",
      "\u001b[0;31mNameError\u001b[0m                                 Traceback (most recent call last)",
      "\u001b[0;32m<ipython-input-16-56f5a9643711>\u001b[0m in \u001b[0;36m<module>\u001b[0;34m()\u001b[0m\n\u001b[1;32m      1\u001b[0m \u001b[0matlas2\u001b[0m \u001b[1;33m=\u001b[0m \u001b[0matlas\u001b[0m\u001b[1;33m.\u001b[0m\u001b[0miloc\u001b[0m\u001b[1;33m[\u001b[0m\u001b[1;33m:\u001b[0m\u001b[1;33m,\u001b[0m \u001b[1;33m[\u001b[0m\u001b[1;36m1\u001b[0m\u001b[1;33m,\u001b[0m \u001b[1;36m10\u001b[0m\u001b[1;33m,\u001b[0m \u001b[1;36m11\u001b[0m\u001b[1;33m,\u001b[0m \u001b[1;36m12\u001b[0m\u001b[1;33m]\u001b[0m\u001b[1;33m]\u001b[0m\u001b[1;33m\u001b[0m\u001b[0m\n\u001b[0;32m----> 2\u001b[0;31m \u001b[0mpairplot\u001b[0m\u001b[1;33m(\u001b[0m\u001b[0matlas2\u001b[0m\u001b[1;33m,\u001b[0m \u001b[0mhue\u001b[0m\u001b[1;33m=\u001b[0m\u001b[1;34m'nome_uf'\u001b[0m\u001b[1;33m,\u001b[0m \u001b[0mmarkers\u001b[0m\u001b[1;33m=\u001b[0m\u001b[1;34m'.'\u001b[0m\u001b[1;33m)\u001b[0m\u001b[1;33m;\u001b[0m\u001b[1;33m\u001b[0m\u001b[0m\n\u001b[0m",
      "\u001b[0;31mNameError\u001b[0m: name 'pairplot' is not defined"
     ]
    }
   ],
   "source": [
    "atlas2 = atlas.iloc[:, [1, 10, 11, 12]]\n",
    "pairplot(atlas2, hue='nome_uf', markers='.');"
   ]
  },
  {
   "cell_type": "markdown",
   "metadata": {},
   "source": [
    "## Groupby"
   ]
  },
  {
   "cell_type": "code",
   "execution_count": 17,
   "metadata": {
    "collapsed": true
   },
   "outputs": [
    {
     "data": {
      "text/plain": [
       "nome_uf\n",
       "acre                    22\n",
       "alagoas                102\n",
       "amapa                   16\n",
       "amazonas                62\n",
       "bahia                  417\n",
       "ceara                  184\n",
       "distrito_federal         1\n",
       "espirito_santo          78\n",
       "goias                  246\n",
       "maranhao               217\n",
       "mato_grosso            141\n",
       "mato_grosso_do_sul      78\n",
       "minas_gerais           853\n",
       "para                   143\n",
       "paraiba                223\n",
       "parana                 399\n",
       "pernambuco             185\n",
       "piaui                  224\n",
       "rio_de_janeiro          92\n",
       "rio_grande_do_norte    167\n",
       "rio_grande_do_sul      496\n",
       "rondonia                52\n",
       "roraima                 15\n",
       "santa_catarina         293\n",
       "sao_paulo              645\n",
       "sergipe                 75\n",
       "tocantins              139\n",
       "dtype: int64"
      ]
     },
     "execution_count": 17,
     "metadata": {},
     "output_type": "execute_result"
    }
   ],
   "source": [
    "atlas.groupby('nome_uf').size()"
   ]
  },
  {
   "cell_type": "code",
   "execution_count": null,
   "metadata": {
    "collapsed": true
   },
   "outputs": [],
   "source": [
    "atlas.groupby('nome_uf').t_med25m.describe()"
   ]
  },
  {
   "cell_type": "code",
   "execution_count": null,
   "metadata": {
    "collapsed": true
   },
   "outputs": [],
   "source": [
    "atlas['renocup'].groupby(atlas['nome_uf']).quantile(0.5)"
   ]
  },
  {
   "cell_type": "code",
   "execution_count": null,
   "metadata": {
    "collapsed": false
   },
   "outputs": [],
   "source": [
    "x = atlas.groupby('nome_uf').t_med25m.mean().reset_index()"
   ]
  },
  {
   "cell_type": "code",
   "execution_count": null,
   "metadata": {
    "collapsed": false
   },
   "outputs": [],
   "source": [
    "x = x.sort_values(by='t_med25m', ascending=False)"
   ]
  },
  {
   "cell_type": "code",
   "execution_count": null,
   "metadata": {
    "collapsed": false
   },
   "outputs": [],
   "source": [
    "x.plot.barh('nome_uf', 't_med25m');"
   ]
  },
  {
   "cell_type": "code",
   "execution_count": null,
   "metadata": {
    "collapsed": false
   },
   "outputs": [],
   "source": [
    "fig, ax = plt.subplots(figsize=(7,7))\n",
    "set_palette(color_palette(palette='bright'))\n",
    "set_style(\"whitegrid\")\n",
    "barplot('t_med25m', 'nome_uf', palette='Accent', data=x)\n",
    "ax.set_xlabel('% ensino médio')\n",
    "ax.set_ylabel('');"
   ]
  },
  {
   "cell_type": "markdown",
   "metadata": {},
   "source": [
    "## Subselecionar"
   ]
  },
  {
   "cell_type": "code",
   "execution_count": null,
   "metadata": {
    "collapsed": false
   },
   "outputs": [],
   "source": [
    "vga = atlas.query('nome_micro == \"varginha\"')"
   ]
  },
  {
   "cell_type": "code",
   "execution_count": null,
   "metadata": {
    "collapsed": false
   },
   "outputs": [],
   "source": [
    "vga.shape"
   ]
  },
  {
   "cell_type": "code",
   "execution_count": null,
   "metadata": {
    "collapsed": false
   },
   "outputs": [],
   "source": [
    "atlas.query('nome_uf == \"minas_gerais\"').groupby('nome_meso').size()"
   ]
  },
  {
   "cell_type": "code",
   "execution_count": null,
   "metadata": {
    "collapsed": false
   },
   "outputs": [],
   "source": [
    "mg = atlas.query('nome_uf == \"minas_gerais\"')\n",
    "\n",
    "agrupado = mg.groupby(['nome_meso', 'nome_micro'])\n",
    "\n",
    "agrupado['renocup'].mean().round(2)"
   ]
  },
  {
   "cell_type": "code",
   "execution_count": null,
   "metadata": {
    "collapsed": false
   },
   "outputs": [],
   "source": [
    "atlas2 = atlas[(atlas['nome_uf'] == 'sao_paulo') | (atlas['nome_uf'] == 'minas_gerais')]"
   ]
  },
  {
   "cell_type": "code",
   "execution_count": null,
   "metadata": {
    "collapsed": false
   },
   "outputs": [],
   "source": [
    "atlas2.shape"
   ]
  },
  {
   "cell_type": "markdown",
   "metadata": {},
   "source": [
    "# Regressão"
   ]
  },
  {
   "cell_type": "code",
   "execution_count": null,
   "metadata": {
    "collapsed": true
   },
   "outputs": [],
   "source": [
    "ols('t_med25m ~ renocup', atlas).fit().summary()"
   ]
  },
  {
   "cell_type": "code",
   "execution_count": null,
   "metadata": {
    "collapsed": true
   },
   "outputs": [],
   "source": [
    "lmplot('t_med25m', 'renocup', atlas);"
   ]
  },
  {
   "cell_type": "code",
   "execution_count": null,
   "metadata": {
    "collapsed": true
   },
   "outputs": [],
   "source": [
    "residplot('t_med25m', 'renocup', atlas);"
   ]
  },
  {
   "cell_type": "code",
   "execution_count": null,
   "metadata": {
    "collapsed": true
   },
   "outputs": [],
   "source": [
    "# para subselecionar, indique hue e coluna ou linha (row)\n",
    "lmplot('t_med25m', 'renocup', hue='nome_uf', col='cid_peq', data=atlas2); "
   ]
  },
  {
   "cell_type": "code",
   "execution_count": null,
   "metadata": {
    "collapsed": true
   },
   "outputs": [],
   "source": [
    "# para subselecionar, indique hue e coluna ou linha (row)\n",
    "lmplot('t_med25m', 'renocup', hue='nome_meso', row='nome_meso', data=mg); "
   ]
  },
  {
   "cell_type": "code",
   "execution_count": null,
   "metadata": {
    "collapsed": true
   },
   "outputs": [],
   "source": [
    "import seaborn as sns\n",
    "sns.boxplot('nome_uf', 'renocup', hue='cid_peq', data=atlas2);"
   ]
  },
  {
   "cell_type": "code",
   "execution_count": null,
   "metadata": {
    "collapsed": false
   },
   "outputs": [],
   "source": []
  },
  {
   "cell_type": "markdown",
   "metadata": {},
   "source": [
    "## Baixar dados do IBGE"
   ]
  },
  {
   "cell_type": "code",
   "execution_count": null,
   "metadata": {
    "collapsed": false
   },
   "outputs": [],
   "source": [
    "import requests"
   ]
  },
  {
   "cell_type": "code",
   "execution_count": null,
   "metadata": {
    "collapsed": false
   },
   "outputs": [],
   "source": [
    "r = requests.get('http://api.sidra.ibge.gov.br/values//t/6381/n1/all/v/4099/p/all/d/v4099%201')"
   ]
  },
  {
   "cell_type": "code",
   "execution_count": null,
   "metadata": {
    "collapsed": false
   },
   "outputs": [],
   "source": [
    "df = pd.DataFrame(r.json())"
   ]
  },
  {
   "cell_type": "code",
   "execution_count": null,
   "metadata": {
    "collapsed": false
   },
   "outputs": [],
   "source": [
    "df.columns = df.iloc[0,:]; df.drop(0, inplace=True)\n",
    "df.Valor = df.Valor.astype(float)\n",
    "df.head(2)"
   ]
  },
  {
   "cell_type": "code",
   "execution_count": null,
   "metadata": {
    "collapsed": false
   },
   "outputs": [],
   "source": [
    "df.index = df.iloc[:,5]"
   ]
  },
  {
   "cell_type": "code",
   "execution_count": null,
   "metadata": {
    "collapsed": false
   },
   "outputs": [],
   "source": [
    "plt.subplots(figsize=(17,3))\n",
    "df.Valor.plot.line()\n",
    "plt.xticks(np.arange(60), df.index, rotation=90);"
   ]
  },
  {
   "cell_type": "code",
   "execution_count": null,
   "metadata": {
    "collapsed": false
   },
   "outputs": [],
   "source": [
    "df.to_excel('apagar.xls')"
   ]
  },
  {
   "cell_type": "markdown",
   "metadata": {},
   "source": [
    "# Mapas"
   ]
  },
  {
   "cell_type": "code",
   "execution_count": null,
   "metadata": {
    "collapsed": false
   },
   "outputs": [],
   "source": [
    "import geopandas as gp\n",
    "from nupis import *"
   ]
  },
  {
   "cell_type": "code",
   "execution_count": null,
   "metadata": {
    "collapsed": false
   },
   "outputs": [],
   "source": [
    "atlas = merge_shp_df(shp='31MUE250GC_SIR.shp', df='atlas.csv')"
   ]
  },
  {
   "cell_type": "code",
   "execution_count": null,
   "metadata": {
    "collapsed": false
   },
   "outputs": [],
   "source": [
    "choropleth(atlas, 't_med25m', cmap='Paired')"
   ]
  },
  {
   "cell_type": "code",
   "execution_count": null,
   "metadata": {
    "collapsed": false
   },
   "outputs": [],
   "source": [
    "setores = gp.read_file('../../dados/ibge_geo/malhas/intramunicipal/31SEE250GC_SIR.shp') \n",
    "vga = setores.query('NM_MUNICIP == \"VARGINHA\"')\n",
    "vga = vga.query('TIPO == \"URBANO\"')"
   ]
  },
  {
   "cell_type": "code",
   "execution_count": null,
   "metadata": {
    "collapsed": false
   },
   "outputs": [],
   "source": [
    "ax = vga.plot(figsize=(9,9), cmap='Accent', alpha=.9, linewidth=.1)\n",
    "ax.set_axis_off();"
   ]
  },
  {
   "cell_type": "code",
   "execution_count": null,
   "metadata": {
    "collapsed": false
   },
   "outputs": [],
   "source": []
  }
 ],
 "metadata": {
  "anaconda-cloud": {},
  "kernelspec": {
   "display_name": "Python [default]",
   "language": "python",
   "name": "python3"
  },
  "language_info": {
   "codemirror_mode": {
    "name": "ipython",
    "version": 3
   },
   "file_extension": ".py",
   "mimetype": "text/x-python",
   "name": "python",
   "nbconvert_exporter": "python",
   "pygments_lexer": "ipython3",
   "version": "3.5.2"
  }
 },
 "nbformat": 4,
 "nbformat_minor": 2
}
